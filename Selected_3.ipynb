{
  "cells": [
    {
      "cell_type": "code",
      "execution_count": null,
      "id": "9a7143f6",
      "metadata": {
        "id": "9a7143f6"
      },
      "outputs": [],
      "source": [
        "from sklearn.feature_extraction.text import CountVectorizer, TfidfTransformer\n",
        "from bs4 import BeautifulSoup\n",
        "import requests\n",
        "import pandas as pd\n",
        "!pip install ar_corrector\n",
        "from ar_corrector.corrector import Corrector\n",
        "from sklearn.naive_bayes import GaussianNB\n",
        "from sklearn.naive_bayes import MultinomialNB\n",
        "from sklearn.model_selection import train_test_split\n",
        "from sklearn import metrics\n",
        "from sklearn import preprocessing\n",
        "import numpy as np\n",
        "from sklearn.metrics import confusion_matrix,accuracy_score\n",
        "import nltk\n",
        "nltk.download('all')\n",
        "from nltk.stem.isri import ISRIStemmer\n",
        "from nltk.corpus import stopwords "
      ]
    },
    {
      "cell_type": "code",
      "execution_count": null,
      "id": "81408f17",
      "metadata": {
        "id": "81408f17"
      },
      "outputs": [],
      "source": [
        "BookName=[]\n",
        "authers=[]\n",
        "deps=[]\n",
        "page_no=[]\n",
        "publisher=[]\n",
        "lang=[]\n",
        "Links=[]\n",
        "description=[]"
      ]
    },
    {
      "cell_type": "code",
      "execution_count": null,
      "id": "d358b95c",
      "metadata": {
        "id": "d358b95c"
      },
      "outputs": [],
      "source": [
        "def filtering(word_list):\n",
        "    stopword_list=stopwords.words('arabic')\n",
        "    wordsfilter=[]\n",
        "    st = ISRIStemmer()\n",
        "    for a in word_list.split():\n",
        "        if a in stopword_list:\n",
        "            continue \n",
        "        stem = st.stem(a)\n",
        "        wordsfilter.append(stem)\n",
        "    return \" \".join(wordsfilter)"
      ]
    },
    {
      "cell_type": "code",
      "execution_count": null,
      "id": "e46137a3",
      "metadata": {
        "id": "e46137a3"
      },
      "outputs": [],
      "source": [
        "def deleteDublicatedNames(string):\n",
        "        splitedName=[]\n",
        "        name=string\n",
        "        if 'كتب' in string.split():\n",
        "            splitedName=string.split('كتب')\n",
        "        elif 'الكاتب' in string.split():\n",
        "            splitedName=string.split('الكاتب')\n",
        "            #print(splitedName)\n",
        "        splitedName = [i for i in splitedName if i]\n",
        "            #print(splitedName)\n",
        "        if len(splitedName)>0:\n",
        "            name=splitedName[0]\n",
        "        return \" \".join(name.replace('كتب','').replace('الكاتب','').split())"
      ]
    },
    {
      "cell_type": "code",
      "execution_count": null,
      "id": "9a6f5a2d",
      "metadata": {
        "id": "9a6f5a2d"
      },
      "outputs": [],
      "source": [
        "def AppendDataRecords(name,text):\n",
        "    authers.append(deleteDublicatedNames(\" \".join((text[0].text[12:]).replace('\\n',\" \").split())))\n",
        "    lang.append(\" \".join((text[2].text[11:]).split()))\n",
        "    NoOfPages=(text[3].text[14:])\n",
        "    numeric_filter=filter(str.isdigit,NoOfPages)\n",
        "    numeric_string=\"\".join(numeric_filter)\n",
        "    if(numeric_string==''):\n",
        "        numeric_string='10'\n",
        "    page_no.append(int(numeric_string))\n",
        "    publisher.append(\" \".join((text[4].text[11:]).replace('دار','').replace('مؤسسة','').replace('\\n',\" \").split())) \n",
        "    BookName.append(\" \".join(((name.replace('كتاب','')).replace('PDF','')).replace('\\n',\" \").split()))"
      ]
    },
    {
      "cell_type": "code",
      "execution_count": null,
      "id": "51bec4d6",
      "metadata": {
        "id": "51bec4d6"
      },
      "outputs": [],
      "source": [
        "def no_OfRecords(ReadLink,name,text,desc):\n",
        "    dep=((text[1].text[13:]).replace( 'تحميل','').replace('كتب','').replace('\\n\\n','\\n'))\n",
        "    ListOfDep=dep.split('\\n')\n",
        "    for x in ListOfDep:\n",
        "        if x!='' :\n",
        "            deps.append(\" \".join(x.split()))\n",
        "            Links.append(ReadLink)\n",
        "            description.append(desc.replace('PDF',''))\n",
        "            AppendDataRecords(name,text)"
      ]
    },
    {
      "cell_type": "code",
      "execution_count": null,
      "id": "5298a26e",
      "metadata": {
        "id": "5298a26e"
      },
      "outputs": [],
      "source": [
        "url='https://www.arab-books.com'\n",
        "corr = Corrector()\n",
        "for i in range(1,110):\n",
        "    #print('page'+str(i))\n",
        "    req=requests.get(url+'/page/'+str(i)+'/')\n",
        "    content=req.text\n",
        "    soup=BeautifulSoup(content)\n",
        "    ul=str(soup.findAll('ul', attrs={'class':'posts-items'}))\n",
        "    ul=BeautifulSoup(ul)\n",
        "    for a in ul.find_all('a',href=True, attrs={'class':'post-thumb'}):\n",
        "        name=a.get('aria-label')\n",
        "        link=a.get('href')\n",
        "        req=requests.get(link)\n",
        "        content=req.text\n",
        "        content=BeautifulSoup(content)\n",
        "        data=str(content.find_all('div', attrs={'class':'book-info'}))\n",
        "        data=BeautifulSoup(data)\n",
        "        parent=data.find('ul')\n",
        "        text=parent.find_all(\"li\")\n",
        "        div=str(content.find_all('div',attrs={'class':'read-link-bottom'}))\n",
        "        div=BeautifulSoup(div)\n",
        "        link=div.find('a',href=True)\n",
        "        if (not link):\n",
        "            ReadLink='Not Avialable'\n",
        "        else : ReadLink=link.get('href')\n",
        "        div=str(content.find_all('div',attrs={'class':'entry-content entry clearfix'}))\n",
        "        div=BeautifulSoup(div)\n",
        "        rdiv=div.find_all('p')\n",
        "        desc=\" \"\n",
        "        if len(div.find_all('p'))>=1 :\n",
        "            for doc in div.find_all('p'):\n",
        "                if len(doc.text.split())>10:\n",
        "                    desc=corr.contextual_correct(filtering((doc.text.replace('PDF',''))))\n",
        "                    break\n",
        "        no_OfRecords(ReadLink,name,text,desc)"
      ]
    },
    {
      "cell_type": "code",
      "execution_count": null,
      "id": "47d0a87a",
      "metadata": {
        "id": "47d0a87a"
      },
      "outputs": [],
      "source": [
        "dic={'اسم الكتاب': BookName ,'الكاتب': authers , 'القسم': deps , 'عدد صفحات الكتاب': page_no , 'اللغه' : lang , 'دار النشر':publisher ,'رابط قراءه الكتاب' : Links ,'ملخص الكتاب' : description }\n",
        "df = pd.DataFrame(dic)\n",
        "df.to_csv('DataSet5.csv',index=False,header=True,encoding='utf-8-sig')"
      ]
    },
    {
      "cell_type": "code",
      "execution_count": null,
      "id": "ca2e6387",
      "metadata": {
        "id": "ca2e6387"
      },
      "outputs": [],
      "source": [
        "df=pd.read_csv(\"DataSet5.csv\",encoding= 'utf-8-sig')\n",
        "df"
      ]
    },
    {
      "cell_type": "code",
      "execution_count": null,
      "id": "6a4088d2",
      "metadata": {
        "id": "6a4088d2"
      },
      "outputs": [],
      "source": [
        "columns=['اسم الكتاب','الكاتب','القسم','ملخص الكتاب']\n",
        "df=df[columns]"
      ]
    },
    {
      "cell_type": "code",
      "execution_count": null,
      "id": "3377d5c9",
      "metadata": {
        "id": "3377d5c9"
      },
      "outputs": [],
      "source": [
        "df['رقم القسم'] = df['القسم'].factorize()[0]\n",
        "df['ملخص الكتاب'].replace(\" \",np.nan,inplace=True)\n",
        "df.dropna(subset=['ملخص الكتاب'],inplace=True)\n",
        "prediction=[]\n",
        "Accuracy_Score=[]\n",
        "df"
      ]
    },
    {
      "cell_type": "code",
      "execution_count": null,
      "id": "8ca26135",
      "metadata": {
        "id": "8ca26135"
      },
      "outputs": [],
      "source": [
        "count_vect=CountVectorizer()\n",
        "X_train, X_test, y_train, y_test = train_test_split(df['اسم الكتاب'], df['رقم القسم'], test_size = 0.2, random_state = 0)\n",
        "X_train_counts=count_vect.fit_transform(X_train)\n",
        "tfidf_transformer = TfidfTransformer()\n",
        "X_train_tfidf = tfidf_transformer.fit_transform(X_train_counts)\n",
        "X_train_tfidf.toarray()\n",
        "nb= MultinomialNB()\n",
        "nb.fit(X_train_tfidf, y_train)\n",
        "nb.score(X_train_tfidf, y_train)\n",
        "X_test_tfidf=count_vect.transform(X_test)\n",
        "prediction.append(nb.predict(X_test_tfidf))\n",
        "cm = confusion_matrix(y_test, prediction[0])\n",
        "Accuracy_Score.append(accuracy_score(y_test, prediction[0]))\n",
        "Accuracy_Score[0]"
      ]
    },
    {
      "cell_type": "code",
      "execution_count": null,
      "id": "2b704a7b",
      "metadata": {
        "id": "2b704a7b"
      },
      "outputs": [],
      "source": [
        "count_vect=CountVectorizer()\n",
        "X_train, X_test, y_train, y_test = train_test_split(df['ملخص الكتاب'], df['رقم القسم'], test_size = 0.2, random_state = 0)\n",
        "X_train_counts=count_vect.fit_transform(X_train)\n",
        "tfidf_transformer = TfidfTransformer()\n",
        "X_train_tfidf = tfidf_transformer.fit_transform(X_train_counts)\n",
        "X_train_tfidf.toarray()\n",
        "nb= MultinomialNB()\n",
        "nb.fit(X_train_tfidf, y_train)\n",
        "nb.score(X_train_tfidf, y_train)\n",
        "X_test_tfidf=count_vect.transform(X_test)\n",
        "prediction.append(nb.predict(X_test_tfidf))\n",
        "cm = confusion_matrix(y_test, prediction[1])\n",
        "Accuracy_Score.append(accuracy_score(y_test, prediction[1]))\n",
        "Accuracy_Score[1]"
      ]
    },
    {
      "cell_type": "code",
      "execution_count": null,
      "id": "0fc8a5ef",
      "metadata": {
        "id": "0fc8a5ef"
      },
      "outputs": [],
      "source": [
        "le = preprocessing.LabelEncoder()\n",
        "x=[]\n",
        "y=[]\n",
        "x.append(le.fit_transform(df.iloc[:,0]))\n",
        "x=np.transpose(x)"
      ]
    },
    {
      "cell_type": "code",
      "execution_count": null,
      "id": "da8089df",
      "metadata": {
        "id": "da8089df"
      },
      "outputs": [],
      "source": [
        "x_train, x_test, y_train, y_test = train_test_split( x, df['رقم القسم'], test_size=0.2,random_state = 0)\n",
        "gnb = GaussianNB()\n",
        "gnb.fit(x_train, y_train)\n",
        "prediction.append(gnb.predict(x_test))\n",
        "Accuracy_Score.append(accuracy_score(y_test, prediction[2]))\n",
        "Accuracy_Score[2]"
      ]
    },
    {
      "cell_type": "code",
      "execution_count": null,
      "id": "d5bb0ee8",
      "metadata": {
        "id": "d5bb0ee8"
      },
      "outputs": [],
      "source": [
        "Final_pred=[]\n",
        "Max=-1\n",
        "indx=0\n",
        "for i in range(len(Accuracy_Score)):\n",
        "    if Accuracy_Score[i]>Max:\n",
        "        Max=Accuracy_Score[i]\n",
        "        index=i\n",
        "for i in range(len(prediction[0])):\n",
        "    if prediction[0][i]==prediction[1][i]:\n",
        "        Final_pred.append(prediction[0][i])\n",
        "    elif prediction[0][i]==prediction[2][i]:\n",
        "        Final_pred.append(prediction[0][i])\n",
        "    elif prediction[1][i]==prediction[2][i]:\n",
        "         Final_pred.append(prediction[0][i])\n",
        "    else : Final_pred.append(prediction[index][i])\n",
        "print(accuracy_score(y_test, Final_pred))"
      ]
    }
  ],
  "metadata": {
    "kernelspec": {
      "display_name": "Python 3 (ipykernel)",
      "language": "python",
      "name": "python3"
    },
    "language_info": {
      "codemirror_mode": {
        "name": "ipython",
        "version": 3
      },
      "file_extension": ".py",
      "mimetype": "text/x-python",
      "name": "python",
      "nbconvert_exporter": "python",
      "pygments_lexer": "ipython3",
      "version": "3.8.12"
    },
    "colab": {
      "name": "Selected_3.ipynb",
      "provenance": [],
      "collapsed_sections": []
    }
  },
  "nbformat": 4,
  "nbformat_minor": 5
}