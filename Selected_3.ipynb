{
  "cells": [
    {
      "cell_type": "code",
      "execution_count": 2,
      "id": "f7509eaa",
      "metadata": {
        "colab": {
          "base_uri": "https://localhost:8080/"
        },
        "id": "f7509eaa",
        "outputId": "f12f3474-72a3-49f0-a246-5b868c5056fc"
      },
      "outputs": [
        {
          "output_type": "stream",
          "name": "stdout",
          "text": [
            "Collecting ar_corrector\n",
            "  Downloading ar_corrector-1.1.6-py3-none-any.whl (53.4 MB)\n",
            "\u001b[K     |████████████████████████████████| 53.4 MB 18.0 MB/s \n",
            "\u001b[?25hRequirement already satisfied: requests in /usr/local/lib/python3.7/dist-packages (from ar_corrector) (2.23.0)\n",
            "Requirement already satisfied: urllib3!=1.25.0,!=1.25.1,<1.26,>=1.21.1 in /usr/local/lib/python3.7/dist-packages (from requests->ar_corrector) (1.24.3)\n",
            "Requirement already satisfied: idna<3,>=2.5 in /usr/local/lib/python3.7/dist-packages (from requests->ar_corrector) (2.10)\n",
            "Requirement already satisfied: chardet<4,>=3.0.2 in /usr/local/lib/python3.7/dist-packages (from requests->ar_corrector) (3.0.4)\n",
            "Requirement already satisfied: certifi>=2017.4.17 in /usr/local/lib/python3.7/dist-packages (from requests->ar_corrector) (2021.10.8)\n",
            "Installing collected packages: ar-corrector\n",
            "Successfully installed ar-corrector-1.1.6\n"
          ]
        }
      ],
      "source": [
        "from bs4 import BeautifulSoup\n",
        "import requests\n",
        "import pandas as pd\n",
        "!pip install ar_corrector\n",
        "from ar_corrector.corrector import Corrector\n",
        "from sklearn.naive_bayes import GaussianNB\n",
        "from sklearn.model_selection import train_test_split\n",
        "from sklearn import metrics\n",
        "from sklearn import preprocessing\n",
        "import numpy as np"
      ]
    },
    {
      "cell_type": "code",
      "execution_count": 3,
      "id": "966d10f9",
      "metadata": {
        "id": "966d10f9"
      },
      "outputs": [],
      "source": [
        "BookName=[]\n",
        "authers=[]\n",
        "deps=[]\n",
        "page_no=[]\n",
        "publisher=[]\n",
        "lang=[]\n",
        "Links=[]\n",
        "description=[]"
      ]
    },
    {
      "cell_type": "code",
      "execution_count": 4,
      "id": "384f6be6",
      "metadata": {
        "id": "384f6be6"
      },
      "outputs": [],
      "source": [
        "def deleteDublicatedNames(string):\n",
        "        splitedName=[]\n",
        "        name=string\n",
        "        if 'كتب' in string.split():\n",
        "            splitedName=string.split('كتب')\n",
        "        elif 'الكاتب' in string.split():\n",
        "            splitedName=string.split('الكاتب')\n",
        "            #print(splitedName)\n",
        "        splitedName = [i for i in splitedName if i]\n",
        "            #print(splitedName)\n",
        "        if len(splitedName)>0:\n",
        "            name=splitedName[0]\n",
        "        return \" \".join(name.replace('كتب','').replace('الكاتب','').split())"
      ]
    },
    {
      "cell_type": "code",
      "execution_count": 5,
      "id": "4f56d1eb",
      "metadata": {
        "id": "4f56d1eb"
      },
      "outputs": [],
      "source": [
        "def AppendDataRecords(name,text):\n",
        "    authers.append(deleteDublicatedNames(\" \".join((text[0].text[12:]).replace('\\n',\" \").split())))\n",
        "    lang.append(\" \".join((text[2].text[11:]).split()))\n",
        "    NoOfPages=(text[3].text[14:])\n",
        "    numeric_filter=filter(str.isdigit,NoOfPages)\n",
        "    numeric_string=\"\".join(numeric_filter)\n",
        "    if(numeric_string==''):\n",
        "        numeric_string='10'\n",
        "    page_no.append(int(numeric_string))\n",
        "    publisher.append(\" \".join((text[4].text[11:]).replace('دار','').replace('مؤسسة','').replace('\\n',\" \").split())) \n",
        "    BookName.append(\" \".join(((name.replace('كتاب','')).replace('PDF','')).replace('\\n',\" \").split()))"
      ]
    },
    {
      "cell_type": "code",
      "execution_count": 6,
      "id": "9bce317f",
      "metadata": {
        "id": "9bce317f"
      },
      "outputs": [],
      "source": [
        "def no_OfRecords(ReadLink,name,text,desc):\n",
        "    dep=((text[1].text[13:]).replace( 'تحميل','').replace('كتب','').replace('\\n\\n','\\n'))\n",
        "    ListOfDep=dep.split('\\n')\n",
        "    for x in ListOfDep:\n",
        "        if x!='' :\n",
        "            deps.append(\" \".join(x.split()))\n",
        "            Links.append(ReadLink)\n",
        "            description.append(desc.replace('PDF',''))\n",
        "            AppendDataRecords(name,text)"
      ]
    },
    {
      "cell_type": "code",
      "execution_count": 7,
      "id": "d6473961",
      "metadata": {
        "id": "d6473961"
      },
      "outputs": [],
      "source": [
        "url='https://www.arab-books.com'\n",
        "corr = Corrector()\n",
        "for i in range(1,21):\n",
        "    #print('page'+str(i))\n",
        "    req=requests.get(url+'/page'+'/'+str(i)+'/')\n",
        "    content=req.text\n",
        "    soup=BeautifulSoup(content)\n",
        "    ul=str(soup.findAll('ul', attrs={'class':'posts-items'}))\n",
        "    ul=BeautifulSoup(ul)\n",
        "    for a in ul.find_all('a',href=True, attrs={'class':'post-thumb'}):\n",
        "        name=a.get('aria-label')\n",
        "        link=a.get('href')\n",
        "        req=requests.get(link)\n",
        "        content=req.text\n",
        "        content=BeautifulSoup(content)\n",
        "        data=str(content.find_all('div', attrs={'class':'book-info'}))\n",
        "        data=BeautifulSoup(data)\n",
        "        parent=data.find('ul')\n",
        "        text=parent.find_all(\"li\")\n",
        "        div=str(content.find_all('div',attrs={'class':'read-link-bottom'}))\n",
        "        div=BeautifulSoup(div)\n",
        "        link=div.find('a',href=True)\n",
        "        if (not link):\n",
        "            ReadLink='Not Avialable'\n",
        "        else : ReadLink=link.get('href')\n",
        "        div=str(content.find_all('div',attrs={'class':'entry-content entry clearfix'}))\n",
        "        div=BeautifulSoup(div)\n",
        "        rdiv=div.find_all('p')\n",
        "        if len(div.find_all('p'))>=3 :\n",
        "            desc=corr.contextual_correct(rdiv[2].text.replace('PDF',''))\n",
        "        else:\n",
        "            desc=\" \"\n",
        "        no_OfRecords(ReadLink,name,text,desc)"
      ]
    },
    {
      "cell_type": "code",
      "execution_count": 8,
      "id": "b75895e9",
      "metadata": {
        "id": "b75895e9"
      },
      "outputs": [],
      "source": [
        "dic={'اسم الكتاب': BookName ,'الكاتب': authers , 'القسم': deps , 'عدد صفحات الكتاب': page_no , 'اللغه' : lang , 'دار النشر':publisher ,'رابط قراءه الكتاب' : Links ,'ملخص الكتاب' : description }\n",
        "df = pd.DataFrame(dic)\n",
        "df.to_csv('DataSet.csv',index=False,header=True,encoding='utf-8-sig')"
      ]
    },
    {
      "cell_type": "code",
      "execution_count": 9,
      "id": "e11ee6e2",
      "metadata": {
        "id": "e11ee6e2"
      },
      "outputs": [],
      "source": [
        "df=pd.read_csv(\"DataSet.csv\",encoding= 'utf-8-sig')"
      ]
    },
    {
      "cell_type": "code",
      "execution_count": 10,
      "id": "8ff7a5e0",
      "metadata": {
        "colab": {
          "base_uri": "https://localhost:8080/",
          "height": 423
        },
        "id": "8ff7a5e0",
        "outputId": "0222ad0f-94db-4809-e4cd-ec2d856596c5"
      },
      "outputs": [
        {
          "output_type": "execute_result",
          "data": {
            "text/html": [
              "\n",
              "  <div id=\"df-3fc2fd00-7f33-4ad8-a01c-21be04b726e6\">\n",
              "    <div class=\"colab-df-container\">\n",
              "      <div>\n",
              "<style scoped>\n",
              "    .dataframe tbody tr th:only-of-type {\n",
              "        vertical-align: middle;\n",
              "    }\n",
              "\n",
              "    .dataframe tbody tr th {\n",
              "        vertical-align: top;\n",
              "    }\n",
              "\n",
              "    .dataframe thead th {\n",
              "        text-align: right;\n",
              "    }\n",
              "</style>\n",
              "<table border=\"1\" class=\"dataframe\">\n",
              "  <thead>\n",
              "    <tr style=\"text-align: right;\">\n",
              "      <th></th>\n",
              "      <th>اسم الكتاب</th>\n",
              "      <th>الكاتب</th>\n",
              "      <th>القسم</th>\n",
              "      <th>ملخص الكتاب</th>\n",
              "    </tr>\n",
              "  </thead>\n",
              "  <tbody>\n",
              "    <tr>\n",
              "      <th>0</th>\n",
              "      <td>لغز القبر الملكي</td>\n",
              "      <td>محمود سالم</td>\n",
              "      <td>روايات بوليسية</td>\n",
              "      <td>محمود سالم</td>\n",
              "    </tr>\n",
              "    <tr>\n",
              "      <th>1</th>\n",
              "      <td>لغز الكوخ المحترق</td>\n",
              "      <td>محمود سالم</td>\n",
              "      <td>روايات بوليسية</td>\n",
              "      <td>محمود سالم</td>\n",
              "    </tr>\n",
              "    <tr>\n",
              "      <th>2</th>\n",
              "      <td>لغز اللص الشبح</td>\n",
              "      <td>محمود سالم</td>\n",
              "      <td>روايات بوليسية</td>\n",
              "      <td>محمود سالم</td>\n",
              "    </tr>\n",
              "    <tr>\n",
              "      <th>3</th>\n",
              "      <td>لغز المدينة العائمة</td>\n",
              "      <td>محمود سالم</td>\n",
              "      <td>روايات بوليسية</td>\n",
              "      <td>محمود سالم</td>\n",
              "    </tr>\n",
              "    <tr>\n",
              "      <th>4</th>\n",
              "      <td>لغز المنزل رقم 98</td>\n",
              "      <td>محمود سالم</td>\n",
              "      <td>روايات بوليسية</td>\n",
              "      <td>محمود سالم</td>\n",
              "    </tr>\n",
              "    <tr>\n",
              "      <th>...</th>\n",
              "      <td>...</td>\n",
              "      <td>...</td>\n",
              "      <td>...</td>\n",
              "      <td>...</td>\n",
              "    </tr>\n",
              "    <tr>\n",
              "      <th>676</th>\n",
              "      <td>مجلة ميكي العدد 536</td>\n",
              "      <td>والت ديزني</td>\n",
              "      <td>الأطفال</td>\n",
              "      <td>ولد والتر إلياس ديزني المؤلف البارع لسلسلة مجل...</td>\n",
              "    </tr>\n",
              "    <tr>\n",
              "      <th>677</th>\n",
              "      <td>مجلة ميكي العدد 530</td>\n",
              "      <td>والت ديزني</td>\n",
              "      <td>الأطفال</td>\n",
              "      <td>ولد والتر إلياس ديزني المؤلف البارع لسلسلة مجل...</td>\n",
              "    </tr>\n",
              "    <tr>\n",
              "      <th>678</th>\n",
              "      <td>مجلة ميكي العدد 527</td>\n",
              "      <td>والت ديزني</td>\n",
              "      <td>الأطفال</td>\n",
              "      <td>ولد والتر إلياس ديزني المؤلف البارع لسلسلة مجل...</td>\n",
              "    </tr>\n",
              "    <tr>\n",
              "      <th>679</th>\n",
              "      <td>مجلة ميكي العدد 526</td>\n",
              "      <td>والت ديزني</td>\n",
              "      <td>الأطفال</td>\n",
              "      <td>ولد والتر إلياس ديزني المؤلف البارع لسلسلة مجل...</td>\n",
              "    </tr>\n",
              "    <tr>\n",
              "      <th>680</th>\n",
              "      <td>مجلة ميكي العدد 525</td>\n",
              "      <td>والت ديزني</td>\n",
              "      <td>الأطفال</td>\n",
              "      <td>ولد والتر إلياس ديزني المؤلف البارع لسلسلة مجل...</td>\n",
              "    </tr>\n",
              "  </tbody>\n",
              "</table>\n",
              "<p>681 rows × 4 columns</p>\n",
              "</div>\n",
              "      <button class=\"colab-df-convert\" onclick=\"convertToInteractive('df-3fc2fd00-7f33-4ad8-a01c-21be04b726e6')\"\n",
              "              title=\"Convert this dataframe to an interactive table.\"\n",
              "              style=\"display:none;\">\n",
              "        \n",
              "  <svg xmlns=\"http://www.w3.org/2000/svg\" height=\"24px\"viewBox=\"0 0 24 24\"\n",
              "       width=\"24px\">\n",
              "    <path d=\"M0 0h24v24H0V0z\" fill=\"none\"/>\n",
              "    <path d=\"M18.56 5.44l.94 2.06.94-2.06 2.06-.94-2.06-.94-.94-2.06-.94 2.06-2.06.94zm-11 1L8.5 8.5l.94-2.06 2.06-.94-2.06-.94L8.5 2.5l-.94 2.06-2.06.94zm10 10l.94 2.06.94-2.06 2.06-.94-2.06-.94-.94-2.06-.94 2.06-2.06.94z\"/><path d=\"M17.41 7.96l-1.37-1.37c-.4-.4-.92-.59-1.43-.59-.52 0-1.04.2-1.43.59L10.3 9.45l-7.72 7.72c-.78.78-.78 2.05 0 2.83L4 21.41c.39.39.9.59 1.41.59.51 0 1.02-.2 1.41-.59l7.78-7.78 2.81-2.81c.8-.78.8-2.07 0-2.86zM5.41 20L4 18.59l7.72-7.72 1.47 1.35L5.41 20z\"/>\n",
              "  </svg>\n",
              "      </button>\n",
              "      \n",
              "  <style>\n",
              "    .colab-df-container {\n",
              "      display:flex;\n",
              "      flex-wrap:wrap;\n",
              "      gap: 12px;\n",
              "    }\n",
              "\n",
              "    .colab-df-convert {\n",
              "      background-color: #E8F0FE;\n",
              "      border: none;\n",
              "      border-radius: 50%;\n",
              "      cursor: pointer;\n",
              "      display: none;\n",
              "      fill: #1967D2;\n",
              "      height: 32px;\n",
              "      padding: 0 0 0 0;\n",
              "      width: 32px;\n",
              "    }\n",
              "\n",
              "    .colab-df-convert:hover {\n",
              "      background-color: #E2EBFA;\n",
              "      box-shadow: 0px 1px 2px rgba(60, 64, 67, 0.3), 0px 1px 3px 1px rgba(60, 64, 67, 0.15);\n",
              "      fill: #174EA6;\n",
              "    }\n",
              "\n",
              "    [theme=dark] .colab-df-convert {\n",
              "      background-color: #3B4455;\n",
              "      fill: #D2E3FC;\n",
              "    }\n",
              "\n",
              "    [theme=dark] .colab-df-convert:hover {\n",
              "      background-color: #434B5C;\n",
              "      box-shadow: 0px 1px 3px 1px rgba(0, 0, 0, 0.15);\n",
              "      filter: drop-shadow(0px 1px 2px rgba(0, 0, 0, 0.3));\n",
              "      fill: #FFFFFF;\n",
              "    }\n",
              "  </style>\n",
              "\n",
              "      <script>\n",
              "        const buttonEl =\n",
              "          document.querySelector('#df-3fc2fd00-7f33-4ad8-a01c-21be04b726e6 button.colab-df-convert');\n",
              "        buttonEl.style.display =\n",
              "          google.colab.kernel.accessAllowed ? 'block' : 'none';\n",
              "\n",
              "        async function convertToInteractive(key) {\n",
              "          const element = document.querySelector('#df-3fc2fd00-7f33-4ad8-a01c-21be04b726e6');\n",
              "          const dataTable =\n",
              "            await google.colab.kernel.invokeFunction('convertToInteractive',\n",
              "                                                     [key], {});\n",
              "          if (!dataTable) return;\n",
              "\n",
              "          const docLinkHtml = 'Like what you see? Visit the ' +\n",
              "            '<a target=\"_blank\" href=https://colab.research.google.com/notebooks/data_table.ipynb>data table notebook</a>'\n",
              "            + ' to learn more about interactive tables.';\n",
              "          element.innerHTML = '';\n",
              "          dataTable['output_type'] = 'display_data';\n",
              "          await google.colab.output.renderOutput(dataTable, element);\n",
              "          const docLink = document.createElement('div');\n",
              "          docLink.innerHTML = docLinkHtml;\n",
              "          element.appendChild(docLink);\n",
              "        }\n",
              "      </script>\n",
              "    </div>\n",
              "  </div>\n",
              "  "
            ],
            "text/plain": [
              "              اسم الكتاب  ...                                        ملخص الكتاب\n",
              "0       لغز القبر الملكي  ...                                         محمود سالم\n",
              "1      لغز الكوخ المحترق  ...                                         محمود سالم\n",
              "2         لغز اللص الشبح  ...                                         محمود سالم\n",
              "3    لغز المدينة العائمة  ...                                         محمود سالم\n",
              "4      لغز المنزل رقم 98  ...                                         محمود سالم\n",
              "..                   ...  ...                                                ...\n",
              "676  مجلة ميكي العدد 536  ...  ولد والتر إلياس ديزني المؤلف البارع لسلسلة مجل...\n",
              "677  مجلة ميكي العدد 530  ...  ولد والتر إلياس ديزني المؤلف البارع لسلسلة مجل...\n",
              "678  مجلة ميكي العدد 527  ...  ولد والتر إلياس ديزني المؤلف البارع لسلسلة مجل...\n",
              "679  مجلة ميكي العدد 526  ...  ولد والتر إلياس ديزني المؤلف البارع لسلسلة مجل...\n",
              "680  مجلة ميكي العدد 525  ...  ولد والتر إلياس ديزني المؤلف البارع لسلسلة مجل...\n",
              "\n",
              "[681 rows x 4 columns]"
            ]
          },
          "metadata": {},
          "execution_count": 10
        }
      ],
      "source": [
        "columns=['اسم الكتاب','الكاتب','القسم','ملخص الكتاب']\n",
        "df=df[columns]\n",
        "df"
      ]
    },
    {
      "cell_type": "code",
      "execution_count": 11,
      "id": "6cf46b0a",
      "metadata": {
        "id": "6cf46b0a"
      },
      "outputs": [],
      "source": [
        "le = preprocessing.LabelEncoder()\n",
        "x=[[],[]]\n",
        "y=[]\n",
        "x[0]=le.fit_transform(df.iloc[:,0])\n",
        "x[1]=le.fit_transform(df.iloc[:,1])\n",
        "y=le.fit_transform(df.iloc[:,2])\n",
        "x=np.transpose(x)"
      ]
    },
    {
      "cell_type": "code",
      "execution_count": 12,
      "id": "aefca08c",
      "metadata": {
        "colab": {
          "base_uri": "https://localhost:8080/"
        },
        "id": "aefca08c",
        "outputId": "2027cc21-7e77-420b-ac4f-913b51bd8591"
      },
      "outputs": [
        {
          "output_type": "stream",
          "name": "stdout",
          "text": [
            "Accuracy: 0.5609756097560976\n"
          ]
        }
      ],
      "source": [
        "columns=['اسم الكتاب','الكاتب','القسم']\n",
        "df=df[columns]\n",
        "x_train, x_test, y_train, y_test = train_test_split( x, y, test_size=0.3)\n",
        "gnb = GaussianNB()\n",
        "gnb.fit(x_train, y_train)\n",
        "y_pred = gnb.predict(x_test)\n",
        "print(\"Accuracy:\",metrics.accuracy_score(y_test, y_pred))"
      ]
    },
    {
      "cell_type": "code",
      "execution_count": null,
      "id": "0c2eb7f8",
      "metadata": {
        "id": "0c2eb7f8"
      },
      "outputs": [],
      "source": [
        ""
      ]
    }
  ],
  "metadata": {
    "kernelspec": {
      "display_name": "Python 3 (ipykernel)",
      "language": "python",
      "name": "python3"
    },
    "language_info": {
      "codemirror_mode": {
        "name": "ipython",
        "version": 3
      },
      "file_extension": ".py",
      "mimetype": "text/x-python",
      "name": "python",
      "nbconvert_exporter": "python",
      "pygments_lexer": "ipython3",
      "version": "3.8.12"
    },
    "colab": {
      "name": "Selected-3.ipynb",
      "provenance": [],
      "collapsed_sections": []
    }
  },
  "nbformat": 4,
  "nbformat_minor": 5
}